{
 "cells": [
  {
   "metadata": {
    "ExecuteTime": {
     "end_time": "2024-09-30T16:16:12.638643Z",
     "start_time": "2024-09-30T16:16:12.428568Z"
    }
   },
   "cell_type": "code",
   "source": [
    "import da4vid.docker.rfdiffusion as rfd\n",
    "\n",
    "rfdiff = rfd.RFdiffusionContainer('/home/user/rfdiffusion_models',\n",
    "  '/home/user/RFdiffusion/inputs',\n",
    "  '/home/user/RFdiffusion/outputs',\n",
    "  num_designs=1)\n",
    "rfdiff.run(input_pdb='example.pdb')"
   ],
   "id": "33a8d14c4b30e83b",
   "outputs": [
    {
     "ename": "ModuleNotFoundError",
     "evalue": "No module named 'da4vid'",
     "output_type": "error",
     "traceback": [
      "\u001B[0;31m---------------------------------------------------------------------------\u001B[0m",
      "\u001B[0;31mModuleNotFoundError\u001B[0m                       Traceback (most recent call last)",
      "Cell \u001B[0;32mIn[1], line 1\u001B[0m\n\u001B[0;32m----> 1\u001B[0m \u001B[38;5;28;01mimport\u001B[39;00m \u001B[38;5;21;01mda4vid\u001B[39;00m\u001B[38;5;21;01m.\u001B[39;00m\u001B[38;5;21;01mdocker\u001B[39;00m\u001B[38;5;21;01m.\u001B[39;00m\u001B[38;5;21;01mrfdiffusion\u001B[39;00m \u001B[38;5;28;01mas\u001B[39;00m \u001B[38;5;21;01mrfd\u001B[39;00m\n\u001B[1;32m      3\u001B[0m rfdiff \u001B[38;5;241m=\u001B[39m rfd\u001B[38;5;241m.\u001B[39mRFdiffusionContainer(\u001B[38;5;124m'\u001B[39m\u001B[38;5;124m/home/user/rfdiffusion_models\u001B[39m\u001B[38;5;124m'\u001B[39m,\n\u001B[1;32m      4\u001B[0m   \u001B[38;5;124m'\u001B[39m\u001B[38;5;124m/home/user/RFdiffusion/inputs\u001B[39m\u001B[38;5;124m'\u001B[39m,\n\u001B[1;32m      5\u001B[0m   \u001B[38;5;124m'\u001B[39m\u001B[38;5;124m/home/user/RFdiffusion/outputs\u001B[39m\u001B[38;5;124m'\u001B[39m,\n\u001B[1;32m      6\u001B[0m   num_designs\u001B[38;5;241m=\u001B[39m\u001B[38;5;241m1\u001B[39m)\n\u001B[1;32m      7\u001B[0m rfdiff\u001B[38;5;241m.\u001B[39mrun(input_pdb\u001B[38;5;241m=\u001B[39m\u001B[38;5;124m'\u001B[39m\u001B[38;5;124mexample.pdb\u001B[39m\u001B[38;5;124m'\u001B[39m)\n",
      "\u001B[0;31mModuleNotFoundError\u001B[0m: No module named 'da4vid'"
     ]
    }
   ],
   "execution_count": 1
  },
  {
   "metadata": {},
   "cell_type": "code",
   "source": "",
   "id": "c2573aad266c1a5e",
   "outputs": [],
   "execution_count": null
  },
  {
   "metadata": {},
   "cell_type": "code",
   "source": "",
   "id": "d332ff7e4f54b500",
   "outputs": [],
   "execution_count": null
  }
 ],
 "metadata": {
  "kernelspec": {
   "display_name": "Python 3",
   "language": "python",
   "name": "python3"
  },
  "language_info": {
   "codemirror_mode": {
    "name": "ipython",
    "version": 2
   },
   "file_extension": ".py",
   "mimetype": "text/x-python",
   "name": "python",
   "nbconvert_exporter": "python",
   "pygments_lexer": "ipython2",
   "version": "2.7.6"
  }
 },
 "nbformat": 4,
 "nbformat_minor": 5
}
