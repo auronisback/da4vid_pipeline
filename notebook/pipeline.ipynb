{
 "cells": [
  {
   "metadata": {
    "ExecuteTime": {
     "end_time": "2024-09-16T16:17:08.443557Z",
     "start_time": "2024-09-16T16:17:08.434936Z"
    }
   },
   "cell_type": "code",
   "source": "print('Hello')",
   "id": "33a8d14c4b30e83b",
   "outputs": [
    {
     "name": "stdout",
     "output_type": "stream",
     "text": [
      "Hello\n"
     ]
    }
   ],
   "execution_count": 9
  },
  {
   "metadata": {
    "ExecuteTime": {
     "end_time": "2024-09-16T16:17:10.429019Z",
     "start_time": "2024-09-16T16:17:10.423685Z"
    }
   },
   "cell_type": "code",
   "source": "",
   "id": "c2573aad266c1a5e",
   "outputs": [],
   "execution_count": 9
  },
  {
   "metadata": {},
   "cell_type": "code",
   "outputs": [],
   "execution_count": null,
   "source": "",
   "id": "d332ff7e4f54b500"
  }
 ],
 "metadata": {
  "kernelspec": {
   "display_name": "Python 3",
   "language": "python",
   "name": "python3"
  },
  "language_info": {
   "codemirror_mode": {
    "name": "ipython",
    "version": 2
   },
   "file_extension": ".py",
   "mimetype": "text/x-python",
   "name": "python",
   "nbconvert_exporter": "python",
   "pygments_lexer": "ipython2",
   "version": "2.7.6"
  }
 },
 "nbformat": 4,
 "nbformat_minor": 5
}
